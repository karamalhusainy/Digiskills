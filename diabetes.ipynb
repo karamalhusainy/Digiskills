{
  "nbformat": 4,
  "nbformat_minor": 0,
  "metadata": {
    "colab": {
      "provenance": []
    },
    "kernelspec": {
      "name": "python3",
      "display_name": "Python 3"
    },
    "language_info": {
      "name": "python"
    }
  },
  "cells": [
    {
      "cell_type": "code",
      "source": [
        "import pandas as pd\n",
        "import numpy as np\n",
        "import matplotlib.pyplot as plt\n",
        "import seaborn as sns\n",
        "from sklearn.preprocessing import StandardScaler, PolynomialFeatures\n",
        "from sklearn.model_selection import train_test_split\n",
        "from sklearn.svm import SVC\n",
        "from sklearn.metrics import accuracy_score, classification_report, confusion_matrix\n",
        "from imblearn.combine import SMOTETomek\n",
        "from sklearn.model_selection import RandomizedSearchCV\n",
        "import warnings\n",
        "warnings.filterwarnings('ignore')"
      ],
      "metadata": {
        "id": "a4NHHLlygrvh"
      },
      "execution_count": 10,
      "outputs": []
    },
    {
      "cell_type": "code",
      "source": [
        "df = pd.read_csv('/content/diabetes.csv')"
      ],
      "metadata": {
        "id": "n37xZCBYgtCL"
      },
      "execution_count": 11,
      "outputs": []
    },
    {
      "cell_type": "markdown",
      "source": [
        "Feature Engineering"
      ],
      "metadata": {
        "id": "uleknSfLgyVf"
      }
    },
    {
      "cell_type": "code",
      "source": [
        "df['BMI_Age_Ratio'] = df['BMI'] / (df['Age'] + 1)\n",
        "df['Age_Squared'] = df['Age'] ** 2\n",
        "df['BMI_Squared'] = df['BMI'] ** 2\n",
        "df['Glucose_BMI_Interaction'] = df['Glucose'] * df['BMI']\n",
        "df['Age_Log'] = np.log1p(df['Age'])\n",
        "df['Insulin_Log'] = np.log1p(df['Insulin'])"
      ],
      "metadata": {
        "id": "iz6nV9JPgxgs"
      },
      "execution_count": 12,
      "outputs": []
    },
    {
      "cell_type": "code",
      "source": [
        "# Polynomial Features\n",
        "poly = PolynomialFeatures(degree=2, interaction_only=True)\n",
        "X_poly = poly.fit_transform(df.drop('Outcome', axis=1))\n",
        "y = df['Outcome']\n",
        "\n",
        "# Standardize features\n",
        "scaler = StandardScaler()\n",
        "X = scaler.fit_transform(X_poly)\n",
        "\n",
        "# Apply SMOTE + Tomek Links\n",
        "smote_tomek = SMOTETomek(random_state=42)\n",
        "X_resampled, y_resampled = smote_tomek.fit_resample(X, y)"
      ],
      "metadata": {
        "id": "ZD3uPPjgg1t8"
      },
      "execution_count": 13,
      "outputs": []
    },
    {
      "cell_type": "code",
      "source": [
        "# Train-test split\n",
        "X_train, X_test, y_train, y_test = train_test_split(X_resampled, y_resampled, test_size=0.20, stratify=y_resampled, random_state=42)"
      ],
      "metadata": {
        "id": "7ntNFBjkg784"
      },
      "execution_count": 14,
      "outputs": []
    },
    {
      "cell_type": "code",
      "source": [
        "# Optimize SVM with RandomizedSearchCV\n",
        "param_dist = {\n",
        "    'C': [0.1, 1, 10, 100],\n",
        "    'gamma': [0.001, 0.01, 0.1, 1],\n",
        "    'kernel': ['rbf', 'poly']\n",
        "}"
      ],
      "metadata": {
        "id": "dEcR9Xv6hASP"
      },
      "execution_count": 15,
      "outputs": []
    },
    {
      "cell_type": "code",
      "source": [
        "svm_model = SVC(probability=True)\n",
        "random_search = RandomizedSearchCV(svm_model, param_dist, n_iter=10, cv=5, n_jobs=-1, verbose=1, random_state=42)\n",
        "random_search.fit(X_train, y_train)\n",
        "best_svm = random_search.best_estimator_\n",
        "\n",
        "# Predictions\n",
        "y_pred_svm = best_svm.predict(X_test)"
      ],
      "metadata": {
        "colab": {
          "base_uri": "https://localhost:8080/"
        },
        "id": "x9KjGk0bhCIA",
        "outputId": "d2967574-d94c-41d3-b1c3-684183b9bd85"
      },
      "execution_count": 16,
      "outputs": [
        {
          "output_type": "stream",
          "name": "stdout",
          "text": [
            "Fitting 5 folds for each of 10 candidates, totalling 50 fits\n"
          ]
        }
      ]
    },
    {
      "cell_type": "code",
      "execution_count": 17,
      "metadata": {
        "colab": {
          "base_uri": "https://localhost:8080/",
          "height": 678
        },
        "id": "SIkZMBC3go1H",
        "outputId": "88435e12-c351-43f6-c201-13bd9250779d"
      },
      "outputs": [
        {
          "output_type": "stream",
          "name": "stdout",
          "text": [
            "SVM Accuracy: 0.8298969072164949\n",
            "SVM Classification Report:\n",
            "               precision    recall  f1-score   support\n",
            "\n",
            "           0       0.85      0.80      0.83        97\n",
            "           1       0.81      0.86      0.83        97\n",
            "\n",
            "    accuracy                           0.83       194\n",
            "   macro avg       0.83      0.83      0.83       194\n",
            "weighted avg       0.83      0.83      0.83       194\n",
            "\n"
          ]
        },
        {
          "output_type": "display_data",
          "data": {
            "text/plain": [
              "<Figure size 600x500 with 2 Axes>"
            ],
            "image/png": "[encoded data removed]"
          },
          "metadata": {}
        }
      ],
      "source": [
        "# Model Evaluation\n",
        "print(\"SVM Accuracy:\", accuracy_score(y_test, y_pred_svm))\n",
        "print(\"SVM Classification Report:\\n\", classification_report(y_test, y_pred_svm))\n",
        "\n",
        "# Confusion Matrix\n",
        "plt.figure(figsize=(6, 5))\n",
        "sns.heatmap(confusion_matrix(y_test, y_pred_svm), annot=True, fmt='d', cmap='Blues')\n",
        "plt.title(\"SVM Confusion Matrix\")\n",
        "plt.xlabel(\"Predicted\")\n",
        "plt.ylabel(\"Actual\")\n",
        "plt.show()\n"
      ]
    },
    {
      "cell_type": "code",
      "source": [],
      "metadata": {
        "id": "adPxlKbDhVuB"
      },
      "execution_count": 17,
      "outputs": []
    }
  ]
}